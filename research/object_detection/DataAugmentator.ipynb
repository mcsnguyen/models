{
 "cells": [
  {
   "cell_type": "code",
   "execution_count": 1,
   "metadata": {},
   "outputs": [
    {
     "name": "stderr",
     "output_type": "stream",
     "text": [
      "Using TensorFlow backend.\n"
     ]
    }
   ],
   "source": [
    "import os\n",
    "import keras\n",
    "from keras.preprocessing.image import ImageDataGenerator\n",
    "from keras.models import Sequential\n",
    "from keras.layers import Conv2D, MaxPooling2D, Dense, Flatten"
   ]
  },
  {
   "cell_type": "code",
   "execution_count": 6,
   "metadata": {},
   "outputs": [],
   "source": [
    "data_dir = \"/home/pandabear/Downloads/dataset\"\n",
    "train_dir = \"/home/pandabear/Downloads/dataset/augmented\"\n",
    "img_size = 256\n",
    "batch_size = 32\n",
    "aug_size = 100"
   ]
  },
  {
   "cell_type": "code",
   "execution_count": 7,
   "metadata": {},
   "outputs": [],
   "source": [
    "def step_size(dir_path, batch_size):\n",
    "    counter = 0\n",
    "    for file in os.listdir(dir_path):\n",
    "        if os.path.isfile(os.path.join(dir_path, file)):\n",
    "            counter += 1\n",
    "    return counter/batch_size"
   ]
  },
  {
   "cell_type": "code",
   "execution_count": 17,
   "metadata": {
    "scrolled": true
   },
   "outputs": [
    {
     "name": "stdout",
     "output_type": "stream",
     "text": [
      "Found 2 images belonging to 2 classes.\n"
     ]
    }
   ],
   "source": [
    "#Data Prepocessing (Normalization, augmentation)\n",
    "generator = ImageDataGenerator(rescale=1./255, rotation_range=30,\n",
    "                            width_shift_range=0.1, height_shift_range=0.1, \n",
    "                            shear_range=0.2,zoom_range=0.2,\n",
    "                            horizontal_flip=True, fill_mode=\"nearest\")\n",
    "#Dependent on file structure, each subfolder is a class\n",
    "#Image size is left at defaulted 256x256\n",
    "augmented = generator.flow_from_directory(data_dir, save_to_dir=train_dir,\n",
    "                                         save_format=\"jpg\")\n",
    "#Generate augmentation\n",
    "aug_count = 0\n",
    "while(aug_count < aug_size):\n",
    "    next(augmented)\n",
    "    aug_count += 1"
   ]
  },
  {
   "cell_type": "code",
   "execution_count": null,
   "metadata": {},
   "outputs": [],
   "source": [
    "cnn = Sequential()\n",
    "cnn.add(Conv2D(32, kernsilze))"
   ]
  }
 ],
 "metadata": {
  "kernelspec": {
   "display_name": "Python 3",
   "language": "python",
   "name": "python3"
  },
  "language_info": {
   "codemirror_mode": {
    "name": "ipython",
    "version": 3
   },
   "file_extension": ".py",
   "mimetype": "text/x-python",
   "name": "python",
   "nbconvert_exporter": "python",
   "pygments_lexer": "ipython3",
   "version": "3.7.3"
  }
 },
 "nbformat": 4,
 "nbformat_minor": 2
}
