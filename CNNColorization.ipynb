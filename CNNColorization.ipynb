{
 "cells": [
  {
   "cell_type": "code",
   "execution_count": null,
   "metadata": {},
   "outputs": [],
   "source": [
    "import keras\n",
    "import numpy as np\n",
    "import os\n",
    "from PIL import Images\n",
    "from pathlib import Path\n",
    "from keras.models import Sequential"
   ]
  },
  {
   "cell_type": "code",
   "execution_count": null,
   "metadata": {},
   "outputs": [],
   "source": [
    "# Create directory\n",
    "def createIn_parentdir(parent, folder_name):\n",
    "    folder = os.path.join(Path(dataset_path).parents[0] + \"/\" + folder_name\n",
    "    if not os.path.exists(folder):\n",
    "        os.mkdir(folder)\n",
    "    return folder\n",
    "                          \n",
    "def save_path(directory, file, appended_name):\n",
    "    file_base = os.path.basename(file)\n",
    "    file_name, file_ext = os.path.splitext(file_base)   \n",
    "    return dir_path + file_name + appened_name + ext\n",
    "            \n",
    "# Create and save black and white images\n",
    "def convert_RGB2BW(dataset_path, bw_folder):\n",
    "    dir_path = createIn_parentdir(\"bw_img\")  \n",
    "    for file in os.listdir(dataset_path):\n",
    "        image = Image.open(file)\n",
    "        # Convert image to grayscale based on Lighting\n",
    "        grayscale = image.convert('L')\n",
    "        # Turn grayscale into np array\n",
    "        blackwhite = np.asarray(gray).copy()\n",
    "        # Turn darker pixels black (0) and lighter pixels white (255)\n",
    "        blackwhite[blackwhite < 128] = 0\n",
    "        blackwhite[blackwhite >= 128] = 255\n",
    "        bw_image = Image.fromarray(blackwhite)\n",
    "        bw_image.save(save_path(dir_path, file, \"_BW\"))\n",
    "        \n",
    "# Preprocess images: creates a white image and pastes data into white image\n",
    "def square_images(dataset_path, size, background_color=(255, 255, 255, 0)):\n",
    "    dir_path = createIn_parentdir(\"squared_img\")\n",
    "    for file in os.listdir(dataset_path):\n",
    "        image = Image.open(file)\n",
    "        width, height = image.size\n",
    "        if(width != height and width != size):\n",
    "            squared_image = Image.new(\"1\", (size, size), background_color)\n",
    "            squared_image.paste(image)\n",
    "            squared_image.save(save_path(dir_path, file, \"_SQ\"))\n",
    "                          "
   ]
  },
  {
   "cell_type": "code",
   "execution_count": null,
   "metadata": {},
   "outputs": [],
   "source": [
    "size = 512\n",
    "train_path = \"/\"\n",
    "validate_path = \"/\"\n",
    "test_path = \"/\""
   ]
  },
  {
   "cell_type": "code",
   "execution_count": null,
   "metadata": {},
   "outputs": [],
   "source": [
    "cnn = Sequential()\n",
    "cnn.add(Conv2D(16, (3,3), activation=\"relu\", input_shape(size, size, 1)))\n",
    "cnn.add(MaxPooling2D((2,2), padding = \"same\"))\n",
    "cnn.add(Conv2D(32, (3,3) activation=\"relu\"))\n",
    "\n"
   ]
  }
 ],
 "metadata": {
  "kernelspec": {
   "display_name": "Python 3",
   "language": "python",
   "name": "python3"
  },
  "language_info": {
   "codemirror_mode": {
    "name": "ipython",
    "version": 3
   },
   "file_extension": ".py",
   "mimetype": "text/x-python",
   "name": "python",
   "nbconvert_exporter": "python",
   "pygments_lexer": "ipython3",
   "version": "3.7.3"
  }
 },
 "nbformat": 4,
 "nbformat_minor": 2
}
